{
 "cells": [
  {
   "cell_type": "markdown",
   "metadata": {},
   "source": [
    "# Quick Start\n",
    "\n",
    "Your user account:\n",
    "\n",
    "* [User account](https://quantnet.ai/personalpage/homepage)\n",
    "\n",
    "Documentation:\n",
    "\n",
    "* [Documentation](https://quantnet.ai/documentation/en/)\n",
    "\n",
    "\n",
    "**Strategy idea:** We will open positions on 500 liquid stocks when two moving averages of the closing cross each. The algorithm will create positive allocation weights for long positions (buy) and negative ones for short positions (sell).\n"
   ]
  },
  {
   "cell_type": "markdown",
   "metadata": {},
   "source": [
    "# The full code\n",
    "```python\n",
    "import xarray as xr\n",
    "import qnt.ta as qnta\n",
    "import qnt.data as qndata\n",
    "import qnt.output as qnout\n",
    "import qnt.stats as qnstats\n",
    "\n",
    "data = qndata.stocks.load_data(tail=5 * 365, dims=(\"time\", \"field\", \"asset\"))\n",
    "\n",
    "close = data.sel(field=\"close\")\n",
    "sma_slow = qnta.sma(close, 200)\n",
    "sma_fast = qnta.sma(close, 20)\n",
    "weights = xr.where(sma_slow < sma_fast, 1, -1)\n",
    "weights = weights / len(data.asset)\n",
    "\n",
    "weights = qnout.clean(weights, data)\n",
    "qnout.check(weights, data)\n",
    "qnout.write(weights)\n",
    "\n",
    "stats = qnstats.calc_stat(data, weights)\n",
    "stats.to_pandas().tail()\n",
    "```"
   ]
  },
  {
   "cell_type": "markdown",
   "metadata": {},
   "source": [
    "# The detailed steps\n",
    "\n",
    "## 1. Preparation\n",
    "\n",
    "We prepare our workspace importing the needed libraries and loading the data:"
   ]
  },
  {
   "cell_type": "code",
   "execution_count": null,
   "metadata": {},
   "outputs": [],
   "source": [
    "import xarray as xr\n",
    "\n",
    "import qnt.ta as qnta\n",
    "import qnt.data as qndata\n",
    "import qnt.output as qnout\n",
    "import qnt.stats as qnstats\n",
    "\n",
    "data = qndata.stocks.load_data(tail=5 * 365, dims=(\"time\", \"field\", \"asset\"))\n",
    "display(data)"
   ]
  },
  {
   "cell_type": "markdown",
   "metadata": {},
   "source": [
    "The variable **data** is an xarray.DataArray  structure that contains historical market data for the last (tail=5 * 365) days whose coordinates are: \n",
    "\n",
    "* **time**: a date in format yyyy-mm-dd;\n",
    "* **field**: an attribute, for example the opening daily price;\n",
    "* **asset**: the identifying symbol for the asset, for example **NASDAQ:AAPL** for Apple stock.\n",
    "\n",
    "More details on xarray can be found at https://xarray.pydata.org/en/stable/"
   ]
  },
  {
   "cell_type": "markdown",
   "metadata": {},
   "source": [
    "## 2. Strategy. Weights allocation\n",
    "For each date, \n",
    "the algorithm calculates what portfolio weights should be at the opening of the next day's trading.\n",
    "\n",
    "Quantnet uses an exposure-based backtester. The trading algorithm should define the fractions of capital which will be distributed to the assets (allocation weights). A **positive** weight means a long position (**buy**), a **negative** value means a short position (**sell**).\n",
    "\n",
    "> Note that algorithm decisions can use all data available at the close of the session, and will be applied at the opening of the next day's session. The chosen allocation weights are translated to positions (number of contracts to be bought/sold) immediately after the close of the session and transactions are executed at the open of the next day.\n",
    "\n",
    "> **Strategy idea**: We will open positions on 500 liquid stocks when two moving averages of the closing cross each. The algorithm will create positive allocation weights for long positions (buy) and negative ones for short positions (sell).\n"
   ]
  },
  {
   "cell_type": "code",
   "execution_count": null,
   "metadata": {},
   "outputs": [],
   "source": [
    "close = data.sel(field=\"close\")\n",
    "sma_slow = qnta.sma(close, 200)\n",
    "sma_fast = qnta.sma(close, 20)\n",
    "weights = xr.where(sma_slow < sma_fast, 1, -1)\n",
    "weights = weights / len(data.asset)"
   ]
  },
  {
   "cell_type": "markdown",
   "metadata": {},
   "source": [
    "The function \"**clean**\" **removes** the main financial **risks** from the strategy \n",
    "\n",
    "and helps to pass the platform filters\n",
    "\n",
    "for more details - see the source code of the library **/qnt/output.py**"
   ]
  },
  {
   "cell_type": "code",
   "execution_count": null,
   "metadata": {},
   "outputs": [],
   "source": [
    "weights = qnout.clean(weights, data)"
   ]
  },
  {
   "cell_type": "markdown",
   "metadata": {},
   "source": [
    "# 3. Performance estimation\n",
    "\n",
    "After we have built the algorithm, we can evaluate its performance calculating statistics.\n",
    "\n",
    "We can display the values of statistical indicators on a cumulative basis, assuming that we have 1M USD at the starting point.\n"
   ]
  },
  {
   "cell_type": "code",
   "execution_count": null,
   "metadata": {},
   "outputs": [],
   "source": [
    "stats = qnstats.calc_stat(data, weights)\n",
    "stats.to_pandas().tail()"
   ]
  },
  {
   "cell_type": "markdown",
   "metadata": {},
   "source": [
    "The call will produce:\n",
    "\n",
    "* **equity**: the cumulative value of profits and losses since inception (1M USD);\n",
    "* **relative_return**: the relative daily variation of **equity**;\n",
    "* **volatility**: the volatility of the investment since inception (i.e. the annualized standard deviation of the daily returns);\n",
    "* **underwater**: the time evolution of drawdowns;\n",
    "* **max_drawdown**: the absolute minimum of the underwater chart;\n",
    "* **sharpe_ratio**: the annualized Sharpe ratio since inception; the value must be larger than 1 for taking part to contests;\n",
    "* **mean_return**: the annualized mean return of the investment since inception;\n",
    "* **bias**: the daily asymmetry between long and short exposure: 1 for a long-only system, -1 for a short-only one;\n",
    "* **instruments**: the number of instruments which get allocations on a given day;\n",
    "* **avg_turnover**: the average turnover;\n",
    "* **avg_holding_time**: the average holding time in days.\n",
    "\n",
    "A detailed explanation can be found inspecting th source code for the library in your directory at **/qnt/stats.py**\n",
    "\n",
    "Moreover we can produce a chart which shows the cumulative profits and losses:"
   ]
  },
  {
   "cell_type": "code",
   "execution_count": null,
   "metadata": {},
   "outputs": [],
   "source": [
    "import qnt.graph as qngraph\n",
    "performance = stats.to_pandas()[\"equity\"]\n",
    "qngraph.make_plot_filled(performance.index, performance, name=\"PnL (Equity)\")"
   ]
  },
  {
   "cell_type": "markdown",
   "metadata": {},
   "source": [
    "# 4. Submit\n",
    "\n",
    "Once you are satisfied with the quality of your algorithm you can submit it. The algorithm will be processed daily on our servers and it will accumulate a track record on live data. Each contest has a submission phase, during which you can submit code and replace it with new algos, and a live phase, where submissions cannot be replaced and develop a track record.\n",
    "\n",
    "The **check** function will show **possible problems** that your strategy has:\n",
    "\n"
   ]
  },
  {
   "cell_type": "code",
   "execution_count": null,
   "metadata": {},
   "outputs": [],
   "source": [
    "# check the quality of your strategy\n",
    "qnout.check(weights, data)"
   ]
  },
  {
   "cell_type": "markdown",
   "metadata": {},
   "source": [
    "The first check is connected to the possible presence of missing values in your algorithm. With the previous call to the **clean function, this problem is automatically solved**.\n",
    "\n",
    "The second check computes the In-Sample Sharpe ratio of your system. In this case, as the performance is negative, your submission would not be eligible for taking part to a contest. **The In-Sample Sharpe ratio must be larger than 1**.\n",
    "\n",
    "The third check controls correlation with existing templates and with all systems submitted to previous contests.\n",
    "\n",
    "If everything is ok, save the portfolio weights that the algorithm generates calling the write function:\n"
   ]
  },
  {
   "cell_type": "code",
   "execution_count": null,
   "metadata": {},
   "outputs": [],
   "source": [
    "# save weights for the competition\n",
    "qnout.write(weights)"
   ]
  },
  {
   "cell_type": "markdown",
   "metadata": {},
   "source": [
    "# What libraries are available?\n",
    "\n",
    "Our library makes extensive use of xarray: \n",
    "\n",
    "[xarray](http://xarray.pydata.org/en/stable/)\n",
    "\n",
    "pandas:\n",
    "\n",
    "[pandas](https://pandas.pydata.org/)\n",
    "\n",
    "and numpy:\n",
    "\n",
    "[numpy](https://numpy.org/)\n",
    "\n",
    "Function definitions can be found in the qnt folder in your private root directory.\n",
    "\n",
    "```python\n",
    "# Import basic libraries.\n",
    "import xarray as xr\n",
    "import pandas as pd\n",
    "import numpy as np\n",
    "\n",
    "# Import quantnet libraries.\n",
    "import qnt.data    as qndata  # load and manipulate data\n",
    "import qnt.output as output   # manage output\n",
    "import qnt.backtester as qnbt # backtester\n",
    "import qnt.stats   as qnstats # statistical functions for analysis\n",
    "import qnt.graph   as qngraph # graphical tools\n",
    "import qnt.ta      as qnta    # indicators library\n",
    "```"
   ]
  },
  {
   "cell_type": "markdown",
   "metadata": {},
   "source": [
    "# May I import libraries?\n",
    "\n",
    "Yes, please refer to the file **init.ipynb** in your home directory. You can dor example use:\n",
    "\n",
    "! conda install -y scikit-learn"
   ]
  },
  {
   "cell_type": "markdown",
   "metadata": {},
   "source": [
    "# How to load data?\n",
    "\n",
    "Stocks:\n",
    "```python\n",
    "data= qndata.stocks.load_data(tail = 5*365, dims = (\"time\", \"field\", \"asset\"))\n",
    "```\n",
    "\n",
    "Futures:\n",
    "```python\n",
    "data= qndata.futures.load_data(tail = 5*365, dims = (\"time\", \"field\", \"asset\"))\n",
    "```\n",
    "\n",
    "BTC Futures:\n",
    "```python\n",
    "data= qndata.cryptofutures.load_data(tail = 5*365, dims = (\"time\", \"field\", \"asset\"))\n",
    "```\n",
    "\n",
    "Cryptocurrencies:\n",
    "```python\n",
    "data= qndata.crypto.load_data(tail = 5*365, dims = (\"time\", \"field\", \"asset\"))\n",
    "```"
   ]
  },
  {
   "cell_type": "markdown",
   "metadata": {},
   "source": [
    "# How to view a list of all tickers?\n",
    "\n",
    "```python\n",
    "data.asset.to_pandas().to_list()\n",
    "```"
   ]
  },
  {
   "cell_type": "markdown",
   "metadata": {},
   "source": [
    "# How to see which fields are available?\n",
    "\n",
    "```python\n",
    "data.field.to_pandas().to_list()\n",
    "```"
   ]
  },
  {
   "cell_type": "markdown",
   "metadata": {},
   "source": [
    "# How to load specific tickers?\n",
    "\n",
    "```python\n",
    "data = qndata.stocks.load_data(tail=15 * 365, assets=['NASDAQ:AAPL', 'NASDAQ:AMD','NYSE:GM'])\n",
    "```"
   ]
  },
  {
   "cell_type": "markdown",
   "metadata": {},
   "source": [
    "# How to select specific tickers after loading all data?\n",
    "\n",
    "```python\n",
    "def get_data_filter(data, assets):\n",
    "    filler= data.sel(asset=assets)\n",
    "    return filler\n",
    "\n",
    "get_data_filter(data, ['NASDAQ:AAPL', 'NASDAQ:AMD','NYSE:GM'])\n",
    "```"
   ]
  },
  {
   "cell_type": "markdown",
   "metadata": {},
   "source": [
    "# How to get the prices for the previous day?\n",
    "\n",
    "```python\n",
    "qnta.shift(data.sel(field=\"open\"), periods=1)\n",
    "```\n",
    "\n",
    "or:\n",
    "\n",
    "```python\n",
    "data.sel(field=\"open\").shift(time=1)\n",
    "```"
   ]
  },
  {
   "cell_type": "markdown",
   "metadata": {},
   "source": [
    "# How can prices be processed?\n",
    "\n",
    "Simply import standard libraries, for example **numpy**:\n",
    "\n",
    "```python\n",
    "import numpy as np\n",
    "\n",
    "high = np.log(data.sel(field=\"high\"))\n",
    "```"
   ]
  },
  {
   "cell_type": "markdown",
   "metadata": {},
   "source": [
    "# An example using pandas\n",
    "\n",
    "One can work with pandas DataFrames at intermediate steps and at the end convert them to xarray data structures:\n",
    "\n",
    "```python\n",
    "def get_price_pct_change(prices):\n",
    "    prices_pandas = prices.to_pandas()\n",
    "    assets = data.coords[\"asset\"].values\n",
    "    for asset in assets:\n",
    "        prices_pandas[asset] = prices_pandas[asset].pct_change()\n",
    "    return prices_pandas\n",
    "\n",
    "\n",
    "prices = data.sel(field=\"close\") * 1.0\n",
    "prices_pct_change = get_price_pct_change(prices).unstack().to_xarray()\n",
    "\n",
    "\n",
    "```"
   ]
  },
  {
   "cell_type": "markdown",
   "metadata": {},
   "source": [
    "# How can you reduce slippage impace when trading?\n",
    "\n",
    "Just apply some technique to reduce turnover:\n",
    "\n",
    "```python\n",
    "def get_lower_slippage(weights, rolling_time=6):\n",
    "    return weights.rolling({\"time\": rolling_time}).max()\n",
    "\n",
    "improved_weights = get_lower_slippage(weights, rolling_time=6)\n",
    "```"
   ]
  },
  {
   "cell_type": "markdown",
   "metadata": {},
   "source": [
    "# How to use technical analysis indicators?\n",
    "\n",
    "For available indicators see the source code of the library: /qnt/ta\n",
    "\n",
    "## ATR\n",
    "\n",
    "```python\n",
    "def get_atr(data, days=14):\n",
    "    high = data.sel(field=\"high\") * 1.0\n",
    "    low = data.sel(field=\"low\") * 1.0\n",
    "    close = data.sel(field=\"close\") * 1.0\n",
    "\n",
    "    return qnta.atr(high, low, close, days)\n",
    "\n",
    "atr = get_atr(data, days=14)\n",
    "\n",
    "```\n",
    "\n",
    "## EMA\n",
    "\n",
    "```python\n",
    "prices = data.sel(field=\"high\")\n",
    "prices_ema = qnta.ema(prices, 15)\n",
    "\n",
    "```\n",
    "\n",
    "## TRIX\n",
    "\n",
    "```python\n",
    "prices = data.sel(field=\"high\")\n",
    "prices_trix = qnta.trix(prices, 15)\n",
    "\n",
    "```\n",
    "\n",
    "## ADL and EMA\n",
    "\n",
    "```python\n",
    "adl = qnta.ad_line(data.sel(field=\"close\")) * 1.0\n",
    "adl_ema = qnta.ema(adl, 18)\n",
    "\n",
    "```"
   ]
  },
  {
   "cell_type": "markdown",
   "metadata": {},
   "source": [
    "# How to get the sharpe ratio?\n",
    "```python\n",
    "def get_sharpe(market_data, weights):\n",
    "    import qnt.stats as qnstats\n",
    "    rr = qnstats.calc_relative_return(data, weights)\n",
    "    sharpe = qnstats.calc_sharpe_ratio_annualized(rr).values[-1]\n",
    "    return sharpe\n",
    "\n",
    "\n",
    "sharpe = get_sharpe(data, weights)\n",
    "display(sharpe)\n",
    "```\n"
   ]
  },
  {
   "cell_type": "markdown",
   "metadata": {},
   "source": [
    "# How to optimize parameters?\n",
    "\n",
    "Below is an example of a simple optimizer for the original strategy.\n",
    "\n",
    "We **recommend** that you separate the process of finding the optimal parameters from their application.\n",
    "\n",
    "* you can clone the strategy\n",
    "* search for optimal parameters in one file\n",
    "* use them in another file and send them to the competition.\n",
    "\n",
    "```python\n",
    "import xarray as xr\n",
    "import numpy as np\n",
    "\n",
    "import qnt.ta as qnta\n",
    "import qnt.data as qndata\n",
    "import qnt.output as qnout\n",
    "import qnt.stats as qnstats\n",
    "\n",
    "import random\n",
    "\n",
    "random.seed(8)\n",
    "\n",
    "\n",
    "def get_sharpe(market_data, weights):\n",
    "    rr = qnstats.calc_relative_return(market_data, weights)\n",
    "    sharpe = qnstats.calc_sharpe_ratio_annualized(rr).values[-1]\n",
    "    return sharpe\n",
    "\n",
    "\n",
    "def get_strategy(data, sma_slow_period, sma_fast_period):\n",
    "    close = data.sel(field=\"close\")\n",
    "    sma_slow = qnta.sma(close, sma_slow_period)\n",
    "    sma_fast = qnta.sma(close, sma_fast_period)\n",
    "    weights = xr.where(sma_slow < sma_fast, 1, -1)\n",
    "    weights = qnout.clean(weights, data)\n",
    "    return weights\n",
    "\n",
    "\n",
    "def get_best_params():\n",
    "    result = {\n",
    "        'param_1': '',\n",
    "        'param_2': '',\n",
    "        'Sharpe Ratio': ''\n",
    "    }\n",
    "    sharpe_best = -5000\n",
    "\n",
    "    data = qndata.stocks.load_data(tail=6 * 365, dims=(\"time\", \"field\", \"asset\"))\n",
    "\n",
    "    for _ in range(0, 50):\n",
    "        param_1 = random.randrange(5, 100, 1)\n",
    "        param_2 = random.randrange(10, 100, 1)\n",
    "        weights = get_strategy(data, param_1, param_2)\n",
    "        sharpe = get_sharpe(data, weights)\n",
    "        if sharpe > sharpe_best:\n",
    "            sharpe_best = sharpe\n",
    "            result['Sharpe Ratio'] = sharpe_best\n",
    "            result['param_1'] = param_1\n",
    "            result['param_2'] = param_2\n",
    "\n",
    "    return result\n",
    "\n",
    "\n",
    "best_params = get_best_params()\n",
    "print('best_macro_params')\n",
    "display(best_params)\n",
    "\n",
    "# check the result\n",
    "\n",
    "data = qndata.stocks.load_data(tail=5 * 365, dims=(\"time\", \"field\", \"asset\"))\n",
    "\n",
    "weights = get_strategy(data, best_params['param_1'], best_params['param_2'])\n",
    "\n",
    "qnout.check(weights, data)\n",
    "\n",
    "# save weights for the competition\n",
    "qnout.write(weights)\n",
    "\n",
    "# calc stats\n",
    "stats = qnstats.calc_stat(data, weights)\n",
    "display(stats.to_pandas().tail())\n",
    "\n",
    "import qnt.graph as qngraph\n",
    "\n",
    "performance = stats.to_pandas()[\"equity\"]\n",
    "qngraph.make_plot_filled(performance.index, performance, name=\"PnL (Equity)\")\n",
    "```"
   ]
  },
  {
   "cell_type": "markdown",
   "metadata": {},
   "source": [
    "# How do I get a list of the top 100 assets ranked by Sharpe ratio?\n",
    "\n",
    "```python\n",
    "import qnt.stats as qnstats\n",
    "\n",
    "data = qndata.stocks.load_data(tail=5 * 365)\n",
    "\n",
    "\n",
    "def get_best_instruments(data, weights, top_size):\n",
    "    # compute statistics:\n",
    "    stats_per_asset = qnstats.calc_stat(data, weights, per_asset=True)\n",
    "    # calculate ranks of assets by \"sharpe_ratio\":\n",
    "    ranks = (-stats_per_asset.sel(field=\"sharpe_ratio\")).rank(\"asset\")\n",
    "    # select top assets by rank \"top_period\" days ago:\n",
    "    top_period = 1\n",
    "    rank = ranks.isel(time=-top_period)\n",
    "    top = rank.where(rank <= top_size).dropna(\"asset\").asset\n",
    "\n",
    "    # select top stats:\n",
    "    top_stats = stats_per_asset.sel(asset=top.values)\n",
    "\n",
    "    # print results:\n",
    "    print(\"SR tail of the top assets:\")\n",
    "    display(top_stats.sel(field=\"sharpe_ratio\").to_pandas().tail())\n",
    "\n",
    "    print(\"avg SR = \", top_stats[-top_period:].sel(field=\"sharpe_ratio\").mean(\"asset\")[-1].item())\n",
    "    display(top_stats)\n",
    "    return top_stats.coords[\"asset\"].values\n",
    "\n",
    "\n",
    "get_best_instruments(data, weights, 100)\n",
    "\n",
    "```"
   ]
  },
  {
   "cell_type": "markdown",
   "metadata": {},
   "source": [
    "# How can I check the results for only the top 10 assets ranked by Sharpe ratio?\n",
    "\n",
    "Select the top assets and then load their data:\n",
    "\n",
    "```python\n",
    "best_assets = get_best_instruments(data, weights, 10)\n",
    "\n",
    "data = qndata.stocks.load_data(tail=5 * 365, assets=best_assets)\n",
    "```"
   ]
  },
  {
   "cell_type": "markdown",
   "metadata": {},
   "source": [
    "# How can you check the quality of your strategy?\n",
    "\n",
    "```python\n",
    "import qnt.output as qnout\n",
    "qnout.check(weights, data)\n",
    "```\n",
    "\n",
    "or\n",
    "\n",
    "```python\n",
    "stat= qnstats.calc_stat(data, weights)\n",
    "display(stat.to_pandas().tail())\n",
    "```\n",
    "\n",
    "or\n",
    "\n",
    "```python\n",
    "import qnt.graph as qngraph\n",
    "\n",
    "statistics = qnstats.calc_stat(data, weights)\n",
    "display(statistics.to_pandas().tail())\n",
    "\n",
    "performance = statistics.to_pandas()[\"equity\"]\n",
    "qngraph.make_plot_filled(performance.index, performance, name=\"PnL (Equity)\", type=\"log\")\n",
    "\n",
    "display(statistics[-1:].sel(field=[\"sharpe_ratio\"]).transpose().to_pandas())\n",
    "qnstats.print_correlation(weights, data)\n",
    "\n",
    "\n",
    "```"
   ]
  },
  {
   "cell_type": "markdown",
   "metadata": {},
   "source": [
    "# How to submit a strategy to the competition?\n",
    "\n",
    "Check that weights are fine:\n",
    "\n",
    "```python\n",
    "import qnt.output as qnout\n",
    "qnout.check(weights, data)\n",
    "```\n",
    "\n",
    "If everything is ok, write the weights to file:\n",
    "\n",
    "```python\n",
    "qnout.write(weights)\n",
    "```\n",
    "\n",
    "In your **personal account**:\n",
    "\n",
    "* **choose** a strategy;\n",
    "* click on the **Submit** button;\n",
    "* select the type of competition.\n",
    "\n",
    "At the beginning you will find the strategy under the **Checking** area (**Competition** > **Checking**). If Sharpe ratio is larger than 1 and technical checks are successful, the strategy will go under the **Running** area (**Competition** > **Running**). Otherwise it will be **Filtered** (**Competition** > **Filtered**) and you should inspect error and warning messages."
   ]
  }
 ],
 "metadata": {
  "kernelspec": {
   "display_name": "Python 3",
   "language": "python",
   "name": "python3"
  },
  "language_info": {
   "codemirror_mode": {
    "name": "ipython",
    "version": 3
   },
   "file_extension": ".py",
   "mimetype": "text/x-python",
   "name": "python",
   "nbconvert_exporter": "python",
   "pygments_lexer": "ipython3",
   "version": "3.7.9"
  }
 },
 "nbformat": 4,
 "nbformat_minor": 4
}
